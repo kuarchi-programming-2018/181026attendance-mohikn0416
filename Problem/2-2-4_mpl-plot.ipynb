{
 "cells": [
  {
   "cell_type": "markdown",
   "metadata": {},
   "source": [
    "# ライブラリの`import`を用いる\n",
    "## matplotlibを使ってグラフをプロット"
   ]
  },
  {
   "cell_type": "markdown",
   "metadata": {},
   "source": [
    "まずはデータを読み込み，それをX, Yのデータにして返す関数を作りましょう。\n",
    "csv とはcomma separated valuesです。テキストで開いてみればわかります。エクセルでも開けます。"
   ]
  },
  {
   "cell_type": "code",
   "execution_count": 1,
   "metadata": {},
   "outputs": [],
   "source": [
    "import csv\n",
    "def read_data(file_name):\n",
    "    reader = csv.reader(open(file_name, 'r'))\n",
    "    X = []\n",
    "    Y = []\n",
    "    for row in reader:\n",
    "        X.append(float(row[0]))\n",
    "        Y.append(float(row[1]))\n",
    "    return X, Y  # データを返す"
   ]
  },
  {
   "cell_type": "markdown",
   "metadata": {},
   "source": [
    "matplotlibを用いてデータを散布図にプロットする関数を作成します。"
   ]
  },
  {
   "cell_type": "code",
   "execution_count": 2,
   "metadata": {},
   "outputs": [],
   "source": [
    "import matplotlib.pyplot as plt\n",
    "% matplotlib inline\n",
    "#  % matplotlib inlineはjupyter notebookでmatplotlibを行内に表示するためのおまじない"
   ]
  },
  {
   "cell_type": "code",
   "execution_count": null,
   "metadata": {},
   "outputs": [],
   "source": []
  },
  {
   "cell_type": "code",
   "execution_count": 3,
   "metadata": {},
   "outputs": [],
   "source": [
    "def draw_graph(X, Y, title, xlabel, ylabel):\n",
    "    plt.xlabel(xl)\n",
    "    plt.ylabel(yl)\n",
    "    plt.title(title)\n",
    "    plt.plot(x.y)\n",
    "    plt.show()  # グラフの描画"
   ]
  },
  {
   "cell_type": "markdown",
   "metadata": {},
   "source": [
    "では，データを読み込んで描画して見ましょう。"
   ]
  },
  {
   "cell_type": "code",
   "execution_count": 4,
   "metadata": {
    "scrolled": true
   },
   "outputs": [
    {
     "data": {
      "image/png": "[encoded data removed]",
      "text/plain": [
       "<Figure size 432x288 with 1 Axes>"
      ]
     },
     "metadata": {
      "needs_background": "light"
     },
     "output_type": "display_data"
    }
   ],
   "source": [
    "import csv\n",
    "def read_data(file_name):\n",
    "    reader = csv.reader(open(file_name, 'r'))\n",
    "    X = []\n",
    "    Y = []\n",
    "    for row in reader:\n",
    "        X.append(float(row[0]))\n",
    "        Y.append(float(row[1]))\n",
    "    return X, Y  # データを返す\n",
    "\n",
    "import matplotlib.pyplot as plt\n",
    "% matplotlib inline\n",
    "\n",
    "def draw_graph(x, y, title, xlabel, ylabel):\n",
    "    plt.xlabel(xl)\n",
    "    plt.ylabel(yl)\n",
    "    plt.title(title)\n",
    "    plt.plot(x,y)\n",
    "    plt.show()\n",
    "\n",
    "file_name = 'data3.csv'  # ファイル名\n",
    "x, y = read_data(file_name)# 関数read_dataによりデータを取得\n",
    "title, xl, yl = 'Linegraph', 'X-Axis', 'Y-Axis'# タイトル，ラベル\n",
    "draw_graph(x, y, title, xl, yl)"
   ]
  },
  {
   "cell_type": "code",
   "execution_count": null,
   "metadata": {},
   "outputs": [],
   "source": []
  }
 ],
 "metadata": {
  "kernelspec": {
   "display_name": "Python 3",
   "language": "python",
   "name": "python3"
  },
  "language_info": {
   "codemirror_mode": {
    "name": "ipython",
    "version": 3
   },
   "file_extension": ".py",
   "mimetype": "text/x-python",
   "name": "python",
   "nbconvert_exporter": "python",
   "pygments_lexer": "ipython3",
   "version": "3.7.0"
  }
 },
 "nbformat": 4,
 "nbformat_minor": 2
}
